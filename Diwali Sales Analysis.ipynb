{
 "cells": [
  {
   "cell_type": "code",
   "execution_count": 2,
   "id": "40fd2c70-c464-4674-ae58-c6a7f5929915",
   "metadata": {},
   "outputs": [],
   "source": [
    "import numpy as np\n",
    "import pandas as pd \n",
    "import matplotlib.pyplot as plt\n",
    "%matplotlib inline\n",
    "import seaborn as sns"
   ]
  },
  {
   "cell_type": "code",
   "execution_count": 3,
   "id": "00880468-5791-4435-b113-7308270c7d1c",
   "metadata": {},
   "outputs": [
    {
     "name": "stdout",
     "output_type": "stream",
     "text": [
      "C:\\Users\\ravit\n"
     ]
    }
   ],
   "source": [
    "import os\n",
    "print(os.getcwd())\n",
    "\n"
   ]
  },
  {
   "cell_type": "code",
   "execution_count": 4,
   "id": "2208f4ac-d263-452f-b8e4-e5ad0fc52aab",
   "metadata": {},
   "outputs": [
    {
     "name": "stdout",
     "output_type": "stream",
     "text": [
      "Imported file successfully\n"
     ]
    }
   ],
   "source": [
    "# Use a relative path for the CSV file assuming it's in the same directory\n",
    "# Or ensure the full path is correct for your system when running locally.\n",
    "# For GitHub, it's best if the CSV is in the repository and you use a relative path.\n",
    "try:\n",
    "    # Try reading with default encoding first\n",
    "    df = pd.read_csv('Diwali Sales Data.csv') \n",
    "except UnicodeDecodeError:\n",
    "    # If default fails, try 'unicode_escape' or 'latin1'\n",
    "    df = pd.read_csv('Diwali Sales Data.csv', encoding='unicode_escape')\n",
    "print(\"Imported file successfully\")"
   ]
  },
  {
   "cell_type": "code",
   "execution_count": 5,
   "id": "dbf85dff-99a0-4a3b-ba08-a854ff0c57d8",
   "metadata": {},
   "outputs": [
    {
     "data": {
      "text/plain": [
       "(11251, 15)"
      ]
     },
     "execution_count": 5,
     "metadata": {},
     "output_type": "execute_result"
    }
   ],
   "source": [
    "df.shape"
   ]
  },
  {
   "cell_type": "code",
   "execution_count": 6,
   "id": "6d5d9063-8524-4c87-bff8-df9333d100a4",
   "metadata": {},
   "outputs": [
    {
     "data": {
      "text/html": [
       "<div>\n",
       "<style scoped>\n",
       "    .dataframe tbody tr th:only-of-type {\n",
       "        vertical-align: middle;\n",
       "    }\n",
       "\n",
       "    .dataframe tbody tr th {\n",
       "        vertical-align: top;\n",
       "    }\n",
       "\n",
       "    .dataframe thead th {\n",
       "        text-align: right;\n",
       "    }\n",
       "</style>\n",
       "<table border=\"1\" class=\"dataframe\">\n",
       "  <thead>\n",
       "    <tr style=\"text-align: right;\">\n",
       "      <th></th>\n",
       "      <th>User_ID</th>\n",
       "      <th>Cust_name</th>\n",
       "      <th>Product_ID</th>\n",
       "      <th>Gender</th>\n",
       "      <th>Age Group</th>\n",
       "      <th>Age</th>\n",
       "      <th>Marital_Status</th>\n",
       "      <th>State</th>\n",
       "      <th>Zone</th>\n",
       "      <th>Occupation</th>\n",
       "      <th>Product_Category</th>\n",
       "      <th>Orders</th>\n",
       "      <th>Amount</th>\n",
       "      <th>Status</th>\n",
       "      <th>unnamed1</th>\n",
       "    </tr>\n",
       "  </thead>\n",
       "  <tbody>\n",
       "    <tr>\n",
       "      <th>0</th>\n",
       "      <td>1002903</td>\n",
       "      <td>Sanskriti</td>\n",
       "      <td>P00125942</td>\n",
       "      <td>F</td>\n",
       "      <td>26-35</td>\n",
       "      <td>28</td>\n",
       "      <td>0</td>\n",
       "      <td>Maharashtra</td>\n",
       "      <td>Western</td>\n",
       "      <td>Healthcare</td>\n",
       "      <td>Auto</td>\n",
       "      <td>1</td>\n",
       "      <td>23952.0</td>\n",
       "      <td>NaN</td>\n",
       "      <td>NaN</td>\n",
       "    </tr>\n",
       "    <tr>\n",
       "      <th>1</th>\n",
       "      <td>1000732</td>\n",
       "      <td>Kartik</td>\n",
       "      <td>P00110942</td>\n",
       "      <td>F</td>\n",
       "      <td>26-35</td>\n",
       "      <td>35</td>\n",
       "      <td>1</td>\n",
       "      <td>Andhra Pradesh</td>\n",
       "      <td>Southern</td>\n",
       "      <td>Govt</td>\n",
       "      <td>Auto</td>\n",
       "      <td>3</td>\n",
       "      <td>23934.0</td>\n",
       "      <td>NaN</td>\n",
       "      <td>NaN</td>\n",
       "    </tr>\n",
       "    <tr>\n",
       "      <th>2</th>\n",
       "      <td>1001990</td>\n",
       "      <td>Bindu</td>\n",
       "      <td>P00118542</td>\n",
       "      <td>F</td>\n",
       "      <td>26-35</td>\n",
       "      <td>35</td>\n",
       "      <td>1</td>\n",
       "      <td>Uttar Pradesh</td>\n",
       "      <td>Central</td>\n",
       "      <td>Automobile</td>\n",
       "      <td>Auto</td>\n",
       "      <td>3</td>\n",
       "      <td>23924.0</td>\n",
       "      <td>NaN</td>\n",
       "      <td>NaN</td>\n",
       "    </tr>\n",
       "    <tr>\n",
       "      <th>3</th>\n",
       "      <td>1001425</td>\n",
       "      <td>Sudevi</td>\n",
       "      <td>P00237842</td>\n",
       "      <td>M</td>\n",
       "      <td>0-17</td>\n",
       "      <td>16</td>\n",
       "      <td>0</td>\n",
       "      <td>Karnataka</td>\n",
       "      <td>Southern</td>\n",
       "      <td>Construction</td>\n",
       "      <td>Auto</td>\n",
       "      <td>2</td>\n",
       "      <td>23912.0</td>\n",
       "      <td>NaN</td>\n",
       "      <td>NaN</td>\n",
       "    </tr>\n",
       "    <tr>\n",
       "      <th>4</th>\n",
       "      <td>1000588</td>\n",
       "      <td>Joni</td>\n",
       "      <td>P00057942</td>\n",
       "      <td>M</td>\n",
       "      <td>26-35</td>\n",
       "      <td>28</td>\n",
       "      <td>1</td>\n",
       "      <td>Gujarat</td>\n",
       "      <td>Western</td>\n",
       "      <td>Food Processing</td>\n",
       "      <td>Auto</td>\n",
       "      <td>2</td>\n",
       "      <td>23877.0</td>\n",
       "      <td>NaN</td>\n",
       "      <td>NaN</td>\n",
       "    </tr>\n",
       "  </tbody>\n",
       "</table>\n",
       "</div>"
      ],
      "text/plain": [
       "   User_ID  Cust_name Product_ID Gender Age Group  Age  Marital_Status           State      Zone       Occupation Product_Category  Orders   Amount  Status  unnamed1\n",
       "0  1002903  Sanskriti  P00125942      F     26-35   28               0     Maharashtra   Western       Healthcare             Auto       1  23952.0     NaN       NaN\n",
       "1  1000732     Kartik  P00110942      F     26-35   35               1  Andhra Pradesh  Southern             Govt             Auto       3  23934.0     NaN       NaN\n",
       "2  1001990      Bindu  P00118542      F     26-35   35               1   Uttar Pradesh   Central       Automobile             Auto       3  23924.0     NaN       NaN\n",
       "3  1001425     Sudevi  P00237842      M      0-17   16               0       Karnataka  Southern     Construction             Auto       2  23912.0     NaN       NaN\n",
       "4  1000588       Joni  P00057942      M     26-35   28               1         Gujarat   Western  Food Processing             Auto       2  23877.0     NaN       NaN"
      ]
     },
     "execution_count": 6,
     "metadata": {},
     "output_type": "execute_result"
    }
   ],
   "source": [
    "df.head()"
   ]
  },
    {
   "cell_type": "markdown",
   "id": "notebook-data-inspection",
   "metadata": {},
   "source": [
    "## Data Inspection and Cleaning"
   ]
  },
  {
   "cell_type": "code",
   "execution_count": 7,
   "id": "88d4be8f-b162-4cb9-893a-8a34a4969ba6",
   "metadata": {},
   "outputs": [
    {
     "data": {
      "text/html": [
       "<div>\n",
       "<style scoped>\n",
       "    .dataframe tbody tr th:only-of-type {\n",
       "        vertical-align: middle;\n",
       "    }\n",
       "\n",
       "    .dataframe tbody tr th {\n",
       "        vertical-align: top;\n",
       "    }\n",
       "\n",
       "    .dataframe thead th {\n",
       "        text-align: right;\n",
       "    }\n",
       "</style>\n",
       "<table border=\"1\" class=\"dataframe\">\n",
       "  <thead>\n",
       "    <tr style=\"text-align: right;\">\n",
       "      <th></th>\n",
       "      <th>User_ID</th>\n",
       "      <th>Cust_name</th>\n",
       "      <th>Product_ID</th>\n",
       "      <th>Gender</th>\n",
       "      <th>Age Group</th>\n",
       "      <th>Age</th>\n",
       "      <th>Marital_Status</th>\n",
       "      <th>State</th>\n",
       "      <th>Zone</th>\n",
       "      <th>Occupation</th>\n",
       "      <th>Product_Category</th>\n",
       "      <th>Orders</th>\n",
       "      <th>Amount</th>\n",
       "      <th>Status</th>\n",
       "      <th>unnamed1</th>\n",
       "    </tr>\n",
       "  </thead>\n",
       "  <tbody>\n",
       "    <tr>\n",
       "      <th>11246</th>\n",
       "      <td>1000695</td>\n",
       "      <td>Manning</td>\n",
       "      <td>P00296942</td>\n",
       "      <td>M</td>\n",
       "      <td>18-25</td>\n",
       "      <td>19</td>\n",
       "      <td>1</td>\n",
       "      <td>Maharashtra</td>\n",
       "      <td>Western</td>\n",
       "      <td>Chemical</td>\n",
       "      <td>Office</td>\n",
       "      <td>4</td>\n",
       "      <td>370.0</td>\n",
       "      <td>NaN</td>\n",
       "      <td>NaN</td>\n",
       "    </tr>\n",
       "    <tr>\n",
       "      <th>11247</th>\n",
       "      <td>1004089</td>\n",
       "      <td>Reichenbach</td>\n",
       "      <td>P00171342</td>\n",
       "      <td>M</td>\n",
       "      <td>26-35</td>\n",
       "      <td>33</td>\n",
       "      <td>0</td>\n",
       "      <td>Haryana</td>\n",
       "      <td>Northern</td>\n",
       "      <td>Healthcare</td>\n",
       "      <td>Veterinary</td>\n",
       "      <td>3</td>\n",
       "      <td>367.0</td>\n",
       "      <td>NaN</td>\n",
       "      <td>NaN</td>\n",
       "    </tr>\n",
       "    <tr>\n",
       "      <th>11248</th>\n",
       "      <td>1001209</td>\n",
       "      <td>Oshin</td>\n",
       "      <td>P00201342</td>\n",
       "      <td>F</td>\n",
       "      <td>36-45</td>\n",
       "      <td>40</td>\n",
       "      <td>0</td>\n",
       "      <td>Madhya Pradesh</td>\n",
       "      <td>Central</td>\n",
       "      <td>Textile</td>\n",
       "      <td>Office</td>\n",
       "      <td>4</td>\n",
       "      <td>213.0</td>\n",
       "      <td>NaN</td>\n",
       "      <td>NaN</td>\n",
       "    </tr>\n",
       "    <tr>\n",
       "      <th>11249</th>\n",
       "      <td>1004023</td>\n",
       "      <td>Noonan</td>\n",
       "      <td>P00059442</td>\n",
       "      <td>M</td>\n",
       "      <td>36-45</td>\n",
       "      <td>37</td>\n",
       "      <td>0</td>\n",
       "      <td>Karnataka</td>\n",
       "      <td>Southern</td>\n",
       "      <td>Agriculture</td>\n",
       "      <td>Office</td>\n",
       "      <td>3</td>\n",
       "      <td>206.0</td>\n",
       "      <td>NaN</td>\n",
       "      <td>NaN</td>\n",
       "    </tr>\n",
       "    <tr>\n",
       "      <th>11250</th>\n",
       "      <td>1002744</td>\n",
       "      <td>Brumley</td>\n",
       "      <td>P00281742</td>\n",
       "      <td>F</td>\n",
       "      <td>18-25</td>\n",
       "      <td>19</td>\n",
       "      <td>0</td>\n",
       "      <td>Maharashtra</td>\n",
       "      <td>Western</td>\n",
       "      <td>Healthcare</td>\n",
       "      <td>Office</td>\n",
       "      <td>3</td>\n",
       "      <td>188.0</td>\n",
       "      <td>NaN</td>\n",
       "      <td>NaN</td>\n",
       "    </tr>\n",
       "  </tbody>\n",
       "</table>\n",
       "</div>"
      ],
      "text/plain": [
       "       User_ID    Cust_name Product_ID Gender Age Group  Age  Marital_Status           State      Zone   Occupation Product_Category  Orders  Amount  Status  unnamed1\n",
       "11246  1000695      Manning  P00296942      M     18-25   19               1     Maharashtra   Western     Chemical           Office       4   370.0     NaN       NaN\n",
       "11247  1004089  Reichenbach  P00171342      M     26-35   33               0         Haryana  Northern   Healthcare       Veterinary       3   367.0     NaN       NaN\n",
       "11248  1001209        Oshin  P00201342      F     36-45   40               0  Madhya Pradesh   Central      Textile           Office       4   213.0     NaN       NaN\n",
       "11249  1004023       Noonan  P00059442      M     36-45   37               0       Karnataka  Southern  Agriculture           Office       3   206.0     NaN       NaN\n",
       "11250  1002744      Brumley  P00281742      F     18-25   19               0     Maharashtra   Western   Healthcare           Office       3   188.0     NaN       NaN"
      ]
     },
     "execution_count": 7,
     "metadata": {},
     "output_type": "execute_result"
    }
   ],
   "source": [
    "df.tail()"
   ]
  },
  {
   "cell_type": "code",
   "execution_count": 8,
   "id": "325bbb69-2e04-4231-b186-ce48e3c038c2",
   "metadata": {},
   "outputs": [
    {
     "name": "stdout",
     "output_type": "stream",
     "text": [
      "<class 'pandas.core.frame.DataFrame'>\n",
      "RangeIndex: 11251 entries, 0 to 11250\n",
      "Data columns (total 15 columns):\n",
      " #   Column            Non-Null Count  Dtype  \n",
      "---  ------            --------------  -----  \n",
      " 0   User_ID           11251 non-null  int64  \n",
      " 1   Cust_name         11251 non-null  object \n",
      " 2   Product_ID        11251 non-null  object \n",
      " 3   Gender            11251 non-null  object \n",
      " 4   Age Group         11251 non-null  object \n",
      " 5   Age               11251 non-null  int64  \n",
      " 6   Marital_Status    11251 non-null  int64  \n",
      " 7   State             11251 non-null  object \n",
      " 8   Zone              11251 non-null  object \n",
      " 9   Occupation        11251 non-null  object \n",
      " 10  Product_Category  11251 non-null  object \n",
      " 11  Orders            11251 non-null  int64  \n",
      " 12  Amount            11239 non-null  float64\n",
      " 13  Status            0 non-null      float64\n",
      " 14  unnamed1          0 non-null      float64\n",
      "dtypes: float64(3), int64(4), object(8)\n",
      "memory usage: 1.3+ MB\n"
     ]
    }
   ],
   "source": [
    "df.info()"
   ]
  },
  {
   "cell_type": "markdown",
   "id": "21944644-9834-48f8-912c-b0c24f176bd1",
   "metadata": {},
   "source": [
    "The info() function shows that the 'Amount' column has some missing values, and the 'Status' and 'unnamed1' columns are entirely empty."
   ]
  },
  {
   "cell_type": "code",
   "execution_count": 9,
   "id": "be0c4978-e376-4248-81a4-89b2716f62ec",
   "metadata": {},
   "outputs": [
    {
     "name": "stdout",
     "output_type": "stream",
     "text": [
      "Successfully dropped the columns\n"
     ]
    }
   ],
   "source": [
    "# Drop empty columns 'Status' and 'unnamed1'\n",
    "df.drop(['Status','unnamed1'] ,axis=1,inplace = True)\n",
    "print('Successfully dropped the columns')"
   ]
  },
  {
   "cell_type": "code",
   "execution_count": 10,
   "id": "62576e56-eca3-48cf-b63e-b2c09e2aa265",
   "metadata": {},
   "outputs": [
    {
     "name": "stdout",
     "output_type": "stream",
     "text": [
      "<class 'pandas.core.frame.DataFrame'>\n",
      "RangeIndex: 11251 entries, 0 to 11250\n",
      "Data columns (total 13 columns):\n",
      " #   Column            Non-Null Count  Dtype  \n",
      "---  ------            --------------  -----  \n",
      " 0   User_ID           11251 non-null  int64  \n",
      " 1   Cust_name         11251 non-null  object \n",
      " 2   Product_ID        11251 non-null  object \n",
      " 3   Gender            11251 non-null  object \n",
      " 4   Age Group         11251 non-null  object \n",
      " 5   Age               11251 non-null  int64  \n",
      " 6   Marital_Status    11251 non-null  int64  \n",
      " 7   State             11251 non-null  object \n",
      " 8   Zone              11251 non-null  object \n",
      " 9   Occupation        11251 non-null  object \n",
      " 10  Product_Category  11251 non-null  object \n",
      " 11  Orders            11251 non-null  int64  \n",
      " 12  Amount            11239 non-null  float64\n",
      "dtypes: float64(1), int64(4), object(8)\n",
      "memory usage: 1.1+ MB\n"
     ]
    }
   ],
   "source": [
    "# Verify columns dropped\n",
    "df.info()\n"
   ]
  },
  {
   "cell_type": "code",
   "execution_count": 11,
   "id": "01b32066-7675-4cf3-8f10-00a527774788",
   "metadata": {},
   "outputs": [
    {
     "data": {
      "text/plain": [
       "User_ID              0\n",
       "Cust_name            0\n",
       "Product_ID           0\n",
       "Gender               0\n",
       "Age Group            0\n",
       "Age                  0\n",
       "Marital_Status       0\n",
       "State                0\n",
       "Zone                 0\n",
       "Occupation           0\n",
       "Product_Category     0\n",
       "Orders               0\n",
       "Amount              12\n",
       "dtype: int64"
      ]
     },
     "execution_count": 11,
     "metadata": {},
     "output_type": "execute_result"
    }
   ],
   "source": [
    "# Check for null values\n",
    "pd.isnull(df).sum()"
   ]
  },
  {
   "cell_type": "code",
   "execution_count": 13,
   "id": "b1c1dd81-9c45-4d3a-9822-da895dfa890e",
   "metadata": {},
   "outputs": [],
   "source": [
    "# Drop rows with null values (in 'Amount' column)\n",
    "df.dropna(inplace=True)"
   ]
  },
  {
   "cell_type": "code",
   "execution_count": 14,
   "id": "2c59153e-3176-474e-a38e-fab16fa037a8",
   "metadata": {},
   "outputs": [
    {
     "data": {
      "text/plain": [
       "(11239, 13)"
      ]
     },
     "execution_count": 14,
     "metadata": {},
     "output_type": "execute_result"
    }
   ],
   "source": [
    "# Verify shape after dropping nulls\n",
    "df.shape"
   ]
  },
  {
   "cell_type": "code",
   "execution_count": 15,
   "id": "d6762dd7-012e-41dc-a049-78fd030eb0c8",
   "metadata": {},
   "outputs": [
    {
     "data": {
      "text/plain": [
       "User_ID             0\n",
       "Cust_name           0\n",
       "Product_ID          0\n",
       "Gender              0\n",
       "Age Group           0\n",
       "Age                 0\n",
       "Marital_Status      0\n",
       "State               0\n",
       "Zone                0\n",
       "Occupation          0\n",
       "Product_Category    0\n",
       "Orders              0\n",
       "Amount              0\n",
       "dtype: int64"
      ]
     },
     "execution_count": 15,
     "metadata": {},
     "output_type": "execute_result"
    }
   ],
   "source": [
    "# Double-check null values\n",
    "pd.isnull(df).sum()\n"
   ]
  },
   {
   "cell_type": "markdown",
   "id": "notebook-change-datatype",
   "metadata": {},
   "source": [
    "Change data type for 'Amount' if needed (e.g., to integer if appropriate, though float is usually fine for currency)."
   ]
  },
  {
   "cell_type": "code",
   "execution_count": null, # Keep null if not run, or update if run
   "id": "change-datatype",
   "metadata": {},
   "outputs": [],
   "source": [
    "# Change 'Amount' data type to integer \n",
    "# Note: This might cause issues if there are non-integer amounts. \n",
    "# Keep as float if precision is needed.\n",
    "# df['Amount'] = df['Amount'].astype('int')"
   ]
  },
    {
   "cell_type": "code",
   "execution_count": 16,
   "id": "3266b882-a513-4054-b175-14ab5cd1c8f9",
   "metadata": {},
   "outputs": [
    {
     "data": {
      "text/html": [
       "<div>\n",
       "<style scoped>\n",
       "    .dataframe tbody tr th:only-of-type {\n",
       "        vertical-align: middle;\n",
       "    }\n",
       "\n",
       "    .dataframe tbody tr th {\n",
       "        vertical-align: top;\n",
       "    }\n",
       "\n",
       "    .dataframe thead th {\n",
       "        text-align: right;\n",
       "    }\n",
       "</style>\n",
       "<table border=\"1\" class=\"dataframe\">\n",
       "  <thead>\n",
       "    <tr style=\"text-align: right;\">\n",
       "      <th></th>\n",
       "      <th>User_ID</th>\n",
       "      <th>Age</th>\n",
       "      <th>Marital_Status</th>\n",
       "      <th>Orders</th>\n",
       "      <th>Amount</th>\n",
       "    </tr>\n",
       "  </thead>\n",
       "  <tbody>\n",
       "    <tr>\n",
       "      <th>count</th>\n",
       "      <td>1.123900e+04</td>\n",
       "      <td>11239.000000</td>\n",
       "      <td>11239.000000</td>\n",
       "      <td>11239.000000</td>\n",
       "      <td>11239.000000</td>\n",
       "    </tr>\n",
       "    <tr>\n",
       "      <th>mean</th>\n",
       "      <td>1.003004e+06</td>\n",
       "      <td>35.410357</td>\n",
       "      <td>0.420055</td>\n",
       "      <td>2.489634</td>\n",
       "      <td>9453.610858</td>\n",
       "    </tr>\n",
       "    <tr>\n",
       "      <th>std</th>\n",
       "      <td>1.716039e+03</td>\n",
       "      <td>12.753866</td>\n",
       "      <td>0.493589</td>\n",
       "      <td>1.114967</td>\n",
       "      <td>5222.355869</td>\n",
       "    </tr>\n",
       "    <tr>\n",
       "      <th>min</th>\n",
       "      <td>1.000001e+06</td>\n",
       "      <td>12.000000</td>\n",
       "      <td>0.000000</td>\n",
       "      <td>1.000000</td>\n",
       "      <td>188.000000</td>\n",
       "    </tr>\n",
       "    <tr>\n",
       "      <th>25%</th>\n",
       "      <td>1.001492e+06</td>\n",
       "      <td>27.000000</td>\n",
       "      <td>0.000000</td>\n",
       "      <td>2.000000</td>\n",
       "      <td>5443.000000</td>\n",
       "    </tr>\n",
       "    <tr>\n",
       "      <th>50%</th>\n",
       "      <td>1.003064e+06</td>\n",
       "      <td>33.000000</td>\n",
       "      <td>0.000000</td>\n",
       "      <td>2.000000</td>\n",
       "      <td>8109.000000</td>\n",
       "    </tr>\n",
       "    <tr>\n",
       "      <th>75%</th>\n",
       "      <td>1.004426e+06</td>\n",
       "      <td>43.000000</td>\n",
       "      <td>1.000000</td>\n",
       "      <td>3.000000</td>\n",
       "      <td>12675.000000</td>\n",
       "    </tr>\n",
       "    <tr>\n",
       "      <th>max</th>\n",
       "      <td>1.006040e+06</td>\n",
       "      <td>92.000000</td>\n",
       "      <td>1.000000</td>\n",
       "      <td>4.000000</td>\n",
       "      <td>23952.000000</td>\n",
       "    </tr>\n",
       "  </tbody>\n",
       "</table>\n",
       "</div>"
      ],
      "text/plain": [
       "            User_ID           Age  Marital_Status        Orders        Amount\n",
       "count  1.123900e+04  11239.000000    11239.000000  11239.000000  11239.000000\n",
       "mean   1.003004e+06     35.410357        0.420055      2.489634   9453.610858\n",
       "std    1.716039e+03     12.753866        0.493589      1.114967   5222.355869\n",
       "min    1.000001e+06     12.000000        0.000000      1.000000    188.000000\n",
       "25%    1.001492e+06     27.000000        0.000000      2.000000   5443.000000\n",
       "50%    1.003064e+06     33.000000        0.000000      2.000000   8109.000000\n",
       "75%    1.004426e+06     43.000000        1.000000      3.000000  12675.000000\n",
       "max    1.006040e+06     92.000000        1.000000      4.000000  23952.000000"
      ]
     },
     "execution_count": 16,
     "metadata": {},
     "output_type": "execute_result"
    }
   ],
   "source": [
    "# Get descriptive statistics for numerical columns\n",
    "df.describe()"
   ]
  },
   {
   "cell_type": "markdown",
   "id": "notebook-describe-specific",
   "metadata": {},
   "source": [
    "Use `describe()` on specific columns if needed."
   ]
  },
  {
   "cell_type": "code",
   "execution_count": null, # Keep null if not run, or update if run
   "id": "describe-specific-cols",
   "metadata": {},
   "outputs": [],
   "source": [
    "# Example: describe specific columns\n",
    "# df[['Age', 'Orders', 'Amount']].describe()"
   ]
  },
  {
   "cell_type": "markdown",
   "id": "notebook-column-rename-fix",
   "metadata": {},
   "source": [
    "Rename 'User_ID' column (apply the change with `inplace=True`)."
   ]
  },
  {
   "cell_type": "code",
   "execution_count": 17, # Update count if re-run
   "id": "rename-user-id", # New ID
   "metadata": {},
   "outputs": [],
   "source": [
    "# Rename User_ID to Customer_ID\n",
    "df.rename(columns={'User_ID':'Customer_ID'}, inplace=True)"
   ]
  },
  {
   "cell_type": "code",
   "execution_count": 18, # Update count if re-run
   "id": "5764cb79-43c6-42f1-bd61-457b73fd0bd3", # Re-use previous ID
   "metadata": {},
   "outputs": [
    {
     "data": {
      "text/plain": [
       "Index(['Customer_ID', 'Cust_name', 'Product_ID', 'Gender', 'Age Group', 'Age',\n", # Adjusted output
       "       'Marital_Status', 'State', 'Zone', 'Occupation', 'Product_Category',\n",
       "       'Orders', 'Amount'],\n",
       "      dtype='object')"
      ]
     },
     "execution_count": 18,
     "metadata": {},
     "output_type": "execute_result"
    }
   ],
   "source": [
    "# Check column names after renaming\n",
    "df.columns"
   ]
  },
  {
   "cell_type": "markdown",
   "id": "d8c9a828-61a4-41fd-a73c-21eb3445ce2b",
   "metadata": {},
   "source": [
    "# **Exploratory Data Analysis (EDA)**"
   ]
  },
    {
   "cell_type": "markdown",
   "id": "notebook-eda-gender",
   "metadata": {},
   "source": [
    "## Gender Analysis"
   ]
  },
  {
   "cell_type": "code",
   "execution_count": 28, # Original count was 28, let's keep it consistent
   "id": "80c5e0a4-c03b-43f9-94cc-5e4424443b8f",
   "metadata": {},
   "outputs": [
    {
     "data": {
      "image/png": "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
